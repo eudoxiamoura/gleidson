{
  "nbformat": 4,
  "nbformat_minor": 0,
  "metadata": {
    "colab": {
      "provenance": [],
      "include_colab_link": true
    },
    "kernelspec": {
      "name": "python3",
      "display_name": "Python 3"
    },
    "accelerator": "GPU"
  },
  "cells": [
    {
      "cell_type": "markdown",
      "metadata": {
        "id": "view-in-github",
        "colab_type": "text"
      },
      "source": [
        "<a href=\"https://colab.research.google.com/github/eudoxiamoura/gleidson/blob/main/Segmenta%C3%A7ao_de_termografia_de_mama_Gleidson.ipynb\" target=\"_parent\"><img src=\"https://colab.research.google.com/assets/colab-badge.svg\" alt=\"Open In Colab\"/></a>"
      ]
    },
    {
      "cell_type": "markdown",
      "metadata": {
        "id": "j8PILuIHLllT"
      },
      "source": [
        "Test GPU"
      ]
    },
    {
      "cell_type": "code",
      "metadata": {
        "id": "ayYxWYZtasmq"
      },
      "source": [
        "import tensorflow.compat.v1 as tf\n",
        "#tf.disable_v2_behavior()"
      ],
      "execution_count": null,
      "outputs": []
    },
    {
      "cell_type": "code",
      "metadata": {
        "id": "IX3dbCF57aqn",
        "colab": {
          "base_uri": "https://localhost:8080/",
          "height": 38
        },
        "outputId": "297a5cd7-cbb5-41f0-8989-b8592288270b"
      },
      "source": [
        "import tensorflow as tf\n",
        "tf.test.gpu_device_name()"
      ],
      "execution_count": null,
      "outputs": [
        {
          "output_type": "execute_result",
          "data": {
            "text/plain": [
              "'/device:GPU:0'"
            ],
            "application/vnd.google.colaboratory.intrinsic+json": {
              "type": "string"
            }
          },
          "metadata": {},
          "execution_count": 3
        }
      ]
    },
    {
      "cell_type": "markdown",
      "metadata": {
        "id": "h_VWIFRSerWU"
      },
      "source": [
        "Realizar o mount com o google drive. Os arquivos precisam estar na conta do google drive zipados"
      ]
    },
    {
      "cell_type": "code",
      "metadata": {
        "id": "mdAjrf5N7snK"
      },
      "source": [
        "import os\n",
        "from google.colab import drive\n",
        "drive.mount('/gdrive', force_remount=True)"
      ],
      "execution_count": null,
      "outputs": []
    },
    {
      "cell_type": "markdown",
      "metadata": {
        "id": "P6L6EmOUv5xr"
      },
      "source": [
        "Verifica os arquivos existentes dentro da pasta colab do google drive"
      ]
    },
    {
      "cell_type": "code",
      "metadata": {
        "id": "zy0GSi60XZuW",
        "colab": {
          "base_uri": "https://localhost:8080/",
          "height": 170
        },
        "outputId": "9bd1106b-f4ad-4ae9-b1d0-e8174f8f53cd"
      },
      "source": [
        "!ls /gdrive/'My Drive'/'Colab Notebooks'/"
      ],
      "execution_count": null,
      "outputs": [
        {
          "output_type": "stream",
          "text": [
            " CODE.zip\t\t\t\t   ORIGINAL.zip\n",
            "'Copy of TestImg15.ipynb'\t\t   TestImg.ipynb\n",
            "'Copy of TestImg25.ipynb'\t\t   treinamentos\n",
            "'Copy of TestImg.ipynb'\t\t\t   treinamentos2\n",
            "'Copy of Visao.ipynb'\t\t\t   treinamentos3\n",
            " Editadas2\t\t\t\t   unet_breastDF-45.hdf5\n",
            " Editadas2.zip\t\t\t\t   unet_breastDF.hdf5\n",
            " Editadas.zip\t\t\t\t   VC_CNN.zip\n",
            " OnlyFullBreastClassificationDivided.zip   Visao.ipynb\n"
          ],
          "name": "stdout"
        }
      ]
    },
    {
      "cell_type": "markdown",
      "metadata": {
        "id": "DpFDhkkBezvT"
      },
      "source": [
        "Apenas para se certificar que o keras esteja instalado"
      ]
    },
    {
      "cell_type": "code",
      "metadata": {
        "id": "q0jq2pmy75tw"
      },
      "source": [
        "#!pip install tensorflow-gpu==1.13.1\n",
        "!pip install -q keras"
      ],
      "execution_count": null,
      "outputs": []
    },
    {
      "cell_type": "markdown",
      "metadata": {
        "id": "x-nTtj3RfbCC"
      },
      "source": [
        "# **CODIGO VAI COMECAR AQUI**\n",
        "\n",
        "---\n",
        "\n",
        "\n",
        "\n",
        "Cria o ambiente necessário para o algoritmo da UNET, separando a base de dados ORIGINAL em pastas específicas\n",
        "\n",
        "\n",
        "\n",
        "*   Descompacta os códigos\n",
        "*   Segundo trecho de código descompacta a base de dados\n",
        "*   Terceiro trecho de código cria arquivos auxiliares\n",
        "\n",
        "\n",
        "\n",
        "\n"
      ]
    },
    {
      "cell_type": "code",
      "metadata": {
        "id": "DpIgZ-TYvN9f",
        "colab": {
          "base_uri": "https://localhost:8080/"
        },
        "outputId": "802e8b53-79aa-443e-e0b7-15815b91c021"
      },
      "source": [
        "!unzip /gdrive/'My Drive'/'Colab Notebooks'/CODE.zip -d VC_CNN"
      ],
      "execution_count": null,
      "outputs": [
        {
          "output_type": "stream",
          "name": "stdout",
          "text": [
            "unzip:  cannot find or open /gdrive/My Drive/Colab Notebooks/CODE.zip, /gdrive/My Drive/Colab Notebooks/CODE.zip.zip or /gdrive/My Drive/Colab Notebooks/CODE.zip.ZIP.\n"
          ]
        }
      ]
    },
    {
      "cell_type": "code",
      "metadata": {
        "id": "5-Iv0hEFWdFe"
      },
      "source": [
        "!unzip /gdrive/'My Drive'/'Colab Notebooks'/Editadas2.zip -d VC_CNN"
      ],
      "execution_count": null,
      "outputs": []
    },
    {
      "cell_type": "code",
      "metadata": {
        "id": "8zpN0-78yfdi"
      },
      "source": [
        "!mkdir 'VC_CNN/Editadas2/Resultado'"
      ],
      "execution_count": null,
      "outputs": []
    },
    {
      "cell_type": "markdown",
      "metadata": {
        "id": "wHi4KDWfvt6t"
      },
      "source": [
        "UNET\n",
        "\n",
        "[GIT](https://github.com/zhixuhao/unet)\n",
        "\n",
        "[ARTIGO](https://arxiv.org/pdf/1505.04597.pdf)"
      ]
    },
    {
      "cell_type": "code",
      "metadata": {
        "id": "u4HFEftv6ATf",
        "colab": {
          "base_uri": "https://localhost:8080/",
          "height": 595
        },
        "outputId": "8909b188-4cd0-4d67-8d18-776896c66c0e"
      },
      "source": [
        "import VC_CNN.setup\n",
        "import VC_CNN.ip\n",
        "\n",
        "from VC_CNN.model import *\n",
        "from VC_CNN.data import *\n",
        "\n",
        "import matplotlib.pyplot as plt\n",
        "\n",
        "#os.environ[\"CUDA_VISIBLE_DEVICES\"] = \"0\"\n",
        "\n",
        "angulo = \"-45\"\n",
        "steps_per_epochs = 100\n",
        "epochs = 50\n",
        "ncases = 25\n",
        "\n",
        "database =  [{\"url\": \"VC_CNN/Editadas2/\"+angulo+\"/\",\"img_type\":\"jpg\"}]\n",
        "(s_list, s_test),(train_list, y_train),(valid_list, y_valid) = VC_CNN.setup.config_base(database=database, deffolder='Teste', test_prop=0.0, valid_prop=0.0)\n",
        "\n",
        "data_gen_args = dict(rotation_range=0.2,  \n",
        "                    width_shift_range=0.05,\n",
        "                    height_shift_range=0.05,\n",
        "                    shear_range=0.05,\n",
        "                    zoom_range=0.05,\n",
        "                    horizontal_flip=True,\n",
        "                    fill_mode='nearest')\n",
        "\n",
        "myGene = trainGenerator(2,\"VC_CNN/Editadas2/\"+angulo+\"/\",'Original','Binarizada',data_gen_args,save_to_dir = None)\n",
        "\n",
        "\n",
        "model = unet()\n",
        "\n",
        "dot_img_file = 'VC_CNN/model_1.png'\n",
        "tf.keras.utils.plot_model(model, to_file=dot_img_file, show_shapes=True,)\n",
        "model.summary()\n",
        "model_checkpoint = ModelCheckpoint('VC_CNN/unet_breastDF'+angulo+'.hdf5', monitor='loss',verbose=1, save_best_only=True)\n",
        "history = model.fit_generator(myGene,steps_per_epoch=steps_per_epochs,epochs=epochs,callbacks=[model_checkpoint])\n",
        "\n",
        "test_s_Gene = testGenerator(s_list)\n",
        "results = model.predict_generator(test_s_Gene,ncases,verbose=1)\n",
        "saveResult(\"VC_CNN/Editadas2/Resultado\",s_list,results)\n",
        "\n",
        "# Plot training & validation accuracy values\n",
        "plt.plot(history.history['accuracy'])\n",
        "plt.title('Acurácia do Modelo')\n",
        "plt.ylabel('Acurácia')\n",
        "plt.xlabel('Época')\n",
        "plt.legend(['Treino'], loc='upper left')\n",
        "plt.show()\n",
        "\n",
        "# Plot training & validation loss values\n",
        "plt.plot(history.history['loss'])\n",
        "plt.title('Perda do Modelo')\n",
        "plt.ylabel('Perda')\n",
        "plt.xlabel('Época')\n",
        "plt.legend(['Treino'], loc='upper left')\n",
        "plt.show()\n"
      ],
      "execution_count": null,
      "outputs": [
        {
          "output_type": "stream",
          "text": [
            "In databaset VC_CNN/Editadas2/-45/:\n",
            "['Segmentada', 'Teste', 'Original', 'Binarizada']\n",
            "In folder Teste: 40 images found.\n",
            "Train data: 40\n",
            "Test data: 0\n",
            "Valid data: 0\n",
            "Data selected...\n",
            "Train: 40\n",
            "\n",
            "\n",
            "TOTAL Data selected...\n",
            "Train: 40\n",
            "40 Images.\n"
          ],
          "name": "stdout"
        },
        {
          "output_type": "error",
          "ename": "TypeError",
          "evalue": "ignored",
          "traceback": [
            "\u001b[0;31m---------------------------------------------------------------------------\u001b[0m",
            "\u001b[0;31mTypeError\u001b[0m                                 Traceback (most recent call last)",
            "\u001b[0;32m<ipython-input-14-a2afb5119688>\u001b[0m in \u001b[0;36m<module>\u001b[0;34m()\u001b[0m\n\u001b[1;32m     28\u001b[0m \u001b[0;34m\u001b[0m\u001b[0m\n\u001b[1;32m     29\u001b[0m \u001b[0;34m\u001b[0m\u001b[0m\n\u001b[0;32m---> 30\u001b[0;31m \u001b[0mmodel\u001b[0m \u001b[0;34m=\u001b[0m \u001b[0munet\u001b[0m\u001b[0;34m(\u001b[0m\u001b[0;34m)\u001b[0m\u001b[0;34m\u001b[0m\u001b[0;34m\u001b[0m\u001b[0m\n\u001b[0m\u001b[1;32m     31\u001b[0m \u001b[0;34m\u001b[0m\u001b[0m\n\u001b[1;32m     32\u001b[0m \u001b[0mdot_img_file\u001b[0m \u001b[0;34m=\u001b[0m \u001b[0;34m'VC_CNN/model_1.png'\u001b[0m\u001b[0;34m\u001b[0m\u001b[0;34m\u001b[0m\u001b[0m\n",
            "\u001b[0;32m/content/VC_CNN/model.py\u001b[0m in \u001b[0;36munet\u001b[0;34m(pretrained_weights, input_size)\u001b[0m\n\u001b[1;32m     56\u001b[0m     \u001b[0mconv10\u001b[0m \u001b[0;34m=\u001b[0m \u001b[0mConv2D\u001b[0m\u001b[0;34m(\u001b[0m\u001b[0;36m1\u001b[0m\u001b[0;34m,\u001b[0m \u001b[0;36m1\u001b[0m\u001b[0;34m,\u001b[0m \u001b[0mactivation\u001b[0m \u001b[0;34m=\u001b[0m \u001b[0;34m'sigmoid'\u001b[0m\u001b[0;34m)\u001b[0m\u001b[0;34m(\u001b[0m\u001b[0mconv9\u001b[0m\u001b[0;34m)\u001b[0m\u001b[0;34m\u001b[0m\u001b[0;34m\u001b[0m\u001b[0m\n\u001b[1;32m     57\u001b[0m \u001b[0;34m\u001b[0m\u001b[0m\n\u001b[0;32m---> 58\u001b[0;31m     \u001b[0mmodel\u001b[0m \u001b[0;34m=\u001b[0m \u001b[0mModel\u001b[0m\u001b[0;34m(\u001b[0m\u001b[0minput\u001b[0m \u001b[0;34m=\u001b[0m \u001b[0minputs\u001b[0m\u001b[0;34m,\u001b[0m \u001b[0moutput\u001b[0m \u001b[0;34m=\u001b[0m \u001b[0mconv10\u001b[0m\u001b[0;34m)\u001b[0m\u001b[0;34m\u001b[0m\u001b[0;34m\u001b[0m\u001b[0m\n\u001b[0m\u001b[1;32m     59\u001b[0m \u001b[0;34m\u001b[0m\u001b[0m\n\u001b[1;32m     60\u001b[0m     \u001b[0mmodel\u001b[0m\u001b[0;34m.\u001b[0m\u001b[0mcompile\u001b[0m\u001b[0;34m(\u001b[0m\u001b[0moptimizer\u001b[0m \u001b[0;34m=\u001b[0m \u001b[0mAdam\u001b[0m\u001b[0;34m(\u001b[0m\u001b[0mlr\u001b[0m \u001b[0;34m=\u001b[0m \u001b[0;36m1e-4\u001b[0m\u001b[0;34m)\u001b[0m\u001b[0;34m,\u001b[0m \u001b[0mloss\u001b[0m \u001b[0;34m=\u001b[0m \u001b[0;34m'binary_crossentropy'\u001b[0m\u001b[0;34m,\u001b[0m \u001b[0mmetrics\u001b[0m \u001b[0;34m=\u001b[0m \u001b[0;34m[\u001b[0m\u001b[0;34m'accuracy'\u001b[0m\u001b[0;34m]\u001b[0m\u001b[0;34m)\u001b[0m\u001b[0;34m\u001b[0m\u001b[0;34m\u001b[0m\u001b[0m\n",
            "\u001b[0;32m/usr/local/lib/python3.6/dist-packages/tensorflow/python/training/tracking/base.py\u001b[0m in \u001b[0;36m_method_wrapper\u001b[0;34m(self, *args, **kwargs)\u001b[0m\n\u001b[1;32m    455\u001b[0m     \u001b[0mself\u001b[0m\u001b[0;34m.\u001b[0m\u001b[0m_self_setattr_tracking\u001b[0m \u001b[0;34m=\u001b[0m \u001b[0;32mFalse\u001b[0m  \u001b[0;31m# pylint: disable=protected-access\u001b[0m\u001b[0;34m\u001b[0m\u001b[0;34m\u001b[0m\u001b[0m\n\u001b[1;32m    456\u001b[0m     \u001b[0;32mtry\u001b[0m\u001b[0;34m:\u001b[0m\u001b[0;34m\u001b[0m\u001b[0;34m\u001b[0m\u001b[0m\n\u001b[0;32m--> 457\u001b[0;31m       \u001b[0mresult\u001b[0m \u001b[0;34m=\u001b[0m \u001b[0mmethod\u001b[0m\u001b[0;34m(\u001b[0m\u001b[0mself\u001b[0m\u001b[0;34m,\u001b[0m \u001b[0;34m*\u001b[0m\u001b[0margs\u001b[0m\u001b[0;34m,\u001b[0m \u001b[0;34m**\u001b[0m\u001b[0mkwargs\u001b[0m\u001b[0;34m)\u001b[0m\u001b[0;34m\u001b[0m\u001b[0;34m\u001b[0m\u001b[0m\n\u001b[0m\u001b[1;32m    458\u001b[0m     \u001b[0;32mfinally\u001b[0m\u001b[0;34m:\u001b[0m\u001b[0;34m\u001b[0m\u001b[0;34m\u001b[0m\u001b[0m\n\u001b[1;32m    459\u001b[0m       \u001b[0mself\u001b[0m\u001b[0;34m.\u001b[0m\u001b[0m_self_setattr_tracking\u001b[0m \u001b[0;34m=\u001b[0m \u001b[0mprevious_value\u001b[0m  \u001b[0;31m# pylint: disable=protected-access\u001b[0m\u001b[0;34m\u001b[0m\u001b[0;34m\u001b[0m\u001b[0m\n",
            "\u001b[0;32m/usr/local/lib/python3.6/dist-packages/tensorflow/python/keras/engine/training.py\u001b[0m in \u001b[0;36m__init__\u001b[0;34m(self, *args, **kwargs)\u001b[0m\n\u001b[1;32m    260\u001b[0m     \u001b[0;31m# self.non_trainable_weights\u001b[0m\u001b[0;34m\u001b[0m\u001b[0;34m\u001b[0m\u001b[0;34m\u001b[0m\u001b[0m\n\u001b[1;32m    261\u001b[0m     generic_utils.validate_kwargs(kwargs, {'trainable', 'dtype', 'dynamic',\n\u001b[0;32m--> 262\u001b[0;31m                                            'name', 'autocast'})\n\u001b[0m\u001b[1;32m    263\u001b[0m     \u001b[0msuper\u001b[0m\u001b[0;34m(\u001b[0m\u001b[0mModel\u001b[0m\u001b[0;34m,\u001b[0m \u001b[0mself\u001b[0m\u001b[0;34m)\u001b[0m\u001b[0;34m.\u001b[0m\u001b[0m__init__\u001b[0m\u001b[0;34m(\u001b[0m\u001b[0;34m**\u001b[0m\u001b[0mkwargs\u001b[0m\u001b[0;34m)\u001b[0m\u001b[0;34m\u001b[0m\u001b[0;34m\u001b[0m\u001b[0m\n\u001b[1;32m    264\u001b[0m     \u001b[0;31m# By default, Model is a subclass model, which is not in graph network.\u001b[0m\u001b[0;34m\u001b[0m\u001b[0;34m\u001b[0m\u001b[0;34m\u001b[0m\u001b[0m\n",
            "\u001b[0;32m/usr/local/lib/python3.6/dist-packages/tensorflow/python/keras/utils/generic_utils.py\u001b[0m in \u001b[0;36mvalidate_kwargs\u001b[0;34m(kwargs, allowed_kwargs, error_message)\u001b[0m\n\u001b[1;32m    776\u001b[0m   \u001b[0;32mfor\u001b[0m \u001b[0mkwarg\u001b[0m \u001b[0;32min\u001b[0m \u001b[0mkwargs\u001b[0m\u001b[0;34m:\u001b[0m\u001b[0;34m\u001b[0m\u001b[0;34m\u001b[0m\u001b[0m\n\u001b[1;32m    777\u001b[0m     \u001b[0;32mif\u001b[0m \u001b[0mkwarg\u001b[0m \u001b[0;32mnot\u001b[0m \u001b[0;32min\u001b[0m \u001b[0mallowed_kwargs\u001b[0m\u001b[0;34m:\u001b[0m\u001b[0;34m\u001b[0m\u001b[0;34m\u001b[0m\u001b[0m\n\u001b[0;32m--> 778\u001b[0;31m       \u001b[0;32mraise\u001b[0m \u001b[0mTypeError\u001b[0m\u001b[0;34m(\u001b[0m\u001b[0merror_message\u001b[0m\u001b[0;34m,\u001b[0m \u001b[0mkwarg\u001b[0m\u001b[0;34m)\u001b[0m\u001b[0;34m\u001b[0m\u001b[0;34m\u001b[0m\u001b[0m\n\u001b[0m\u001b[1;32m    779\u001b[0m \u001b[0;34m\u001b[0m\u001b[0m\n\u001b[1;32m    780\u001b[0m \u001b[0;34m\u001b[0m\u001b[0m\n",
            "\u001b[0;31mTypeError\u001b[0m: ('Keyword argument not understood:', 'input')"
          ]
        }
      ]
    },
    {
      "cell_type": "code",
      "metadata": {
        "id": "VJ_bZmiDSdGL"
      },
      "source": [],
      "execution_count": null,
      "outputs": []
    },
    {
      "cell_type": "code",
      "metadata": {
        "id": "wvLe69BwtSr8"
      },
      "source": [
        "!cp -r \"VC_CNN/unet_breastDF-45.hdf5\" /gdrive/'My Drive'/'Colab Notebooks'/'treinamentos2'/\n",
        "!cp -r \"VC_CNN/unet_breastDF-90.hdf5\" /gdrive/'My Drive'/'Colab Notebooks'/'treinamentos2'/\n",
        "!cp -r \"VC_CNN/unet_breastDF0.hdf5\" /gdrive/'My Drive'/'Colab Notebooks'/'treinamentos2'/\n",
        "!cp -r \"VC_CNN/unet_breastDF90.hdf5\" /gdrive/'My Drive'/'Colab Notebooks'/'treinamentos2'/\n",
        "!cp -r \"VC_CNN/unet_breastDF45.hdf5\" /gdrive/'My Drive'/'Colab Notebooks'/'treinamentos2'/"
      ],
      "execution_count": null,
      "outputs": []
    },
    {
      "cell_type": "code",
      "metadata": {
        "id": "s9PMUaYXV3G_"
      },
      "source": [
        "from google.colab import drive\n",
        "drive.mount('/content/drive')"
      ],
      "execution_count": null,
      "outputs": []
    },
    {
      "cell_type": "markdown",
      "metadata": {
        "id": "SWK4tEz2K9kl"
      },
      "source": [
        "Resetar pasta com os resultados"
      ]
    },
    {
      "cell_type": "code",
      "metadata": {
        "id": "ZAwjWlcCZhX3"
      },
      "source": [
        "!rm -rf 'VC_CNN/Editadas2/'"
      ],
      "execution_count": null,
      "outputs": []
    },
    {
      "cell_type": "code",
      "metadata": {
        "id": "Yn8VU-48fa1e"
      },
      "source": [
        "!rm -rf 'VC_CNN/Editadas2/Resultado'\n",
        "!mkdir 'VC_CNN/Editadas2/Resultado'"
      ],
      "execution_count": null,
      "outputs": []
    },
    {
      "cell_type": "markdown",
      "metadata": {
        "id": "U5gLdi53EVpN"
      },
      "source": [
        "Load Trained Model"
      ]
    },
    {
      "cell_type": "code",
      "metadata": {
        "id": "TbQt3jAhHQcY"
      },
      "source": [
        "!cp -r /gdrive/'My Drive'/'Colab Notebooks/treinamentos2'/unet_breastDF'-45'.hdf5 \"VC_CNN/\"\n",
        "!cp -r /gdrive/'My Drive'/'Colab Notebooks/treinamentos2'/unet_breastDF'-90'.hdf5 \"VC_CNN/\" \n",
        "!cp -r /gdrive/'My Drive'/'Colab Notebooks/treinamentos2'/unet_breastDF'0'.hdf5 \"VC_CNN/\" \n",
        "!cp -r /gdrive/'My Drive'/'Colab Notebooks/treinamentos2'/unet_breastDF'90'.hdf5 \"VC_CNN/\" \n",
        "!cp -r /gdrive/'My Drive'/'Colab Notebooks/treinamentos2'/unet_breastDF'45'.hdf5 \"VC_CNN/\" "
      ],
      "execution_count": null,
      "outputs": []
    },
    {
      "cell_type": "code",
      "metadata": {
        "id": "eLU4hmQjEXu7",
        "colab": {
          "base_uri": "https://localhost:8080/",
          "height": 969
        },
        "outputId": "9079f9e6-0aee-48ab-d83c-160e23fb5f61"
      },
      "source": [
        "import VC_CNN.setup\n",
        "import VC_CNN.ip\n",
        "\n",
        "from VC_CNN.model import *\n",
        "from VC_CNN.data import *\n",
        "\n",
        "import matplotlib.pyplot as plt\n",
        "\n",
        "#os.environ[\"CUDA_VISIBLE_DEVICES\"] = \"0\"\n",
        "\n",
        "angulo = \"0\"\n",
        "steps_per_epochs = 100\n",
        "epochs = 30\n",
        "ncases = 40\n",
        "\n",
        "database =  [{\"url\": \"VC_CNN/Editadas2/\"+angulo+\"/\",\"img_type\":\"jpg\"}]\n",
        "(s_list, s_test),(train_list, y_train),(valid_list, y_valid) = VC_CNN.setup.config_base(database=database, deffolder='Teste', test_prop=0.0, valid_prop=0.0)\n",
        "\n",
        "data_gen_args = dict(rotation_range=0.2,  \n",
        "                    width_shift_range=0.05,\n",
        "                    height_shift_range=0.05,\n",
        "                    shear_range=0.05,\n",
        "                    zoom_range=0.05,\n",
        "                    horizontal_flip=True,\n",
        "                    fill_mode='nearest')\n",
        "\n",
        "myGene = trainGenerator(2,\"VC_CNN/Editadas2\",'Original','Segmentada',data_gen_args,save_to_dir = None)\n",
        "\n",
        "\n",
        "model = unet('VC_CNN/unet_breastDF'+angulo+'.hdf5')\n",
        "#model_checkpoint = ModelCheckpoint('VC_CNN/unet_breastDF.hdf5', monitor='loss',verbose=1, save_best_only=True)\n",
        "#history = model.fit_generator(myGene,steps_per_epoch=100,epochs=20,callbacks=[model_checkpoint])\n",
        "\n",
        "test_s_Gene = testGenerator(s_list)\n",
        "results = model.predict_generator(test_s_Gene,ncases,verbose=1)\n",
        "saveResult(\"VC_CNN/Editadas2/Resultado\",s_list,results)\n"
      ],
      "execution_count": null,
      "outputs": [
        {
          "output_type": "stream",
          "text": [
            "In databaset VC_CNN/Editadas2/0/:\n",
            "['Teste', 'Binarizada', 'Segmentada', 'Original']\n",
            "In folder Teste: 40 images found.\n",
            "Train data: 40\n",
            "Test data: 0\n",
            "Valid data: 0\n",
            "Data selected...\n",
            "Train: 40\n",
            "\n",
            "\n",
            "TOTAL Data selected...\n",
            "Train: 40\n",
            "40 Images.\n"
          ],
          "name": "stdout"
        },
        {
          "output_type": "stream",
          "text": [
            "/content/VC_CNN/model.py:58: UserWarning: Update your `Model` call to the Keras 2 API: `Model(inputs=Tensor(\"in..., outputs=Tensor(\"co...)`\n",
            "  model = Model(input = inputs, output = conv10)\n"
          ],
          "name": "stderr"
        },
        {
          "output_type": "stream",
          "text": [
            "40/40 [==============================] - 2s 42ms/step\n"
          ],
          "name": "stdout"
        },
        {
          "output_type": "stream",
          "text": [
            "WARNING:root:Lossy conversion from float32 to uint8. Range [0, 1]. Convert image to uint8 prior to saving to suppress this warning.\n",
            "WARNING:root:Lossy conversion from float32 to uint8. Range [0, 1]. Convert image to uint8 prior to saving to suppress this warning.\n",
            "WARNING:root:Lossy conversion from float32 to uint8. Range [0, 1]. Convert image to uint8 prior to saving to suppress this warning.\n",
            "WARNING:root:Lossy conversion from float32 to uint8. Range [0, 1]. Convert image to uint8 prior to saving to suppress this warning.\n",
            "WARNING:root:Lossy conversion from float32 to uint8. Range [0, 1]. Convert image to uint8 prior to saving to suppress this warning.\n",
            "WARNING:root:Lossy conversion from float32 to uint8. Range [0, 1]. Convert image to uint8 prior to saving to suppress this warning.\n",
            "WARNING:root:Lossy conversion from float32 to uint8. Range [0, 1]. Convert image to uint8 prior to saving to suppress this warning.\n",
            "WARNING:root:Lossy conversion from float32 to uint8. Range [0, 1]. Convert image to uint8 prior to saving to suppress this warning.\n",
            "WARNING:root:Lossy conversion from float32 to uint8. Range [0, 1]. Convert image to uint8 prior to saving to suppress this warning.\n",
            "WARNING:root:Lossy conversion from float32 to uint8. Range [0, 1]. Convert image to uint8 prior to saving to suppress this warning.\n",
            "WARNING:root:Lossy conversion from float32 to uint8. Range [0, 1]. Convert image to uint8 prior to saving to suppress this warning.\n",
            "WARNING:root:Lossy conversion from float32 to uint8. Range [0, 1]. Convert image to uint8 prior to saving to suppress this warning.\n",
            "WARNING:root:Lossy conversion from float32 to uint8. Range [0, 1]. Convert image to uint8 prior to saving to suppress this warning.\n",
            "WARNING:root:Lossy conversion from float32 to uint8. Range [0, 1]. Convert image to uint8 prior to saving to suppress this warning.\n",
            "WARNING:root:Lossy conversion from float32 to uint8. Range [0, 1]. Convert image to uint8 prior to saving to suppress this warning.\n",
            "WARNING:root:Lossy conversion from float32 to uint8. Range [0, 1]. Convert image to uint8 prior to saving to suppress this warning.\n",
            "WARNING:root:Lossy conversion from float32 to uint8. Range [0, 1]. Convert image to uint8 prior to saving to suppress this warning.\n",
            "WARNING:root:Lossy conversion from float32 to uint8. Range [0, 1]. Convert image to uint8 prior to saving to suppress this warning.\n",
            "WARNING:root:Lossy conversion from float32 to uint8. Range [0, 1]. Convert image to uint8 prior to saving to suppress this warning.\n",
            "WARNING:root:Lossy conversion from float32 to uint8. Range [0, 1]. Convert image to uint8 prior to saving to suppress this warning.\n",
            "WARNING:root:Lossy conversion from float32 to uint8. Range [0, 1]. Convert image to uint8 prior to saving to suppress this warning.\n",
            "WARNING:root:Lossy conversion from float32 to uint8. Range [0, 1]. Convert image to uint8 prior to saving to suppress this warning.\n",
            "WARNING:root:Lossy conversion from float32 to uint8. Range [0, 1]. Convert image to uint8 prior to saving to suppress this warning.\n",
            "WARNING:root:Lossy conversion from float32 to uint8. Range [0, 1]. Convert image to uint8 prior to saving to suppress this warning.\n",
            "WARNING:root:Lossy conversion from float32 to uint8. Range [0, 1]. Convert image to uint8 prior to saving to suppress this warning.\n",
            "WARNING:root:Lossy conversion from float32 to uint8. Range [0, 1]. Convert image to uint8 prior to saving to suppress this warning.\n",
            "WARNING:root:Lossy conversion from float32 to uint8. Range [0, 1]. Convert image to uint8 prior to saving to suppress this warning.\n",
            "WARNING:root:Lossy conversion from float32 to uint8. Range [0, 1]. Convert image to uint8 prior to saving to suppress this warning.\n",
            "WARNING:root:Lossy conversion from float32 to uint8. Range [0, 1]. Convert image to uint8 prior to saving to suppress this warning.\n",
            "WARNING:root:Lossy conversion from float32 to uint8. Range [0, 1]. Convert image to uint8 prior to saving to suppress this warning.\n",
            "WARNING:root:Lossy conversion from float32 to uint8. Range [0, 1]. Convert image to uint8 prior to saving to suppress this warning.\n",
            "WARNING:root:Lossy conversion from float32 to uint8. Range [0, 1]. Convert image to uint8 prior to saving to suppress this warning.\n",
            "WARNING:root:Lossy conversion from float32 to uint8. Range [0, 1]. Convert image to uint8 prior to saving to suppress this warning.\n",
            "WARNING:root:Lossy conversion from float32 to uint8. Range [0, 1]. Convert image to uint8 prior to saving to suppress this warning.\n",
            "WARNING:root:Lossy conversion from float32 to uint8. Range [0, 1]. Convert image to uint8 prior to saving to suppress this warning.\n",
            "WARNING:root:Lossy conversion from float32 to uint8. Range [0, 1]. Convert image to uint8 prior to saving to suppress this warning.\n",
            "WARNING:root:Lossy conversion from float32 to uint8. Range [0, 1]. Convert image to uint8 prior to saving to suppress this warning.\n",
            "WARNING:root:Lossy conversion from float32 to uint8. Range [0, 1]. Convert image to uint8 prior to saving to suppress this warning.\n",
            "WARNING:root:Lossy conversion from float32 to uint8. Range [0, 1]. Convert image to uint8 prior to saving to suppress this warning.\n",
            "WARNING:root:Lossy conversion from float32 to uint8. Range [0, 1]. Convert image to uint8 prior to saving to suppress this warning.\n"
          ],
          "name": "stderr"
        }
      ]
    },
    {
      "cell_type": "markdown",
      "metadata": {
        "id": "zuaLWN3EKg2k"
      },
      "source": [
        "Realiza o download dos arquivos"
      ]
    },
    {
      "cell_type": "code",
      "metadata": {
        "id": "RVfb9B-UsCX8",
        "colab": {
          "base_uri": "https://localhost:8080/",
          "height": 1000
        },
        "outputId": "6af50b4a-607e-47d1-eb02-d106899eb923"
      },
      "source": [
        "from google.colab import files\n",
        "!zip -r VC_CNN/seg.zip VC_CNN/Editadas2/Resultado\n",
        "files.download( \"VC_CNN/seg.zip\" ) "
      ],
      "execution_count": null,
      "outputs": [
        {
          "output_type": "stream",
          "text": [
            "updating: VC_CNN/Editadas2/Resultado/ (stored 0%)\n",
            "updating: VC_CNN/Editadas2/Resultado/T0158.1.3.S.2013-02-18.00.jpg (deflated 28%)\n",
            "updating: VC_CNN/Editadas2/Resultado/T0147.1.3.S.2013-01-29.00.jpg (deflated 27%)\n",
            "updating: VC_CNN/Editadas2/Resultado/T0176.1.2.S.2013-03-20.00.jpg (deflated 15%)\n",
            "updating: VC_CNN/Editadas2/Resultado/T0180.1.5.S.2013-08-16.00.jpg (deflated 16%)\n",
            "updating: VC_CNN/Editadas2/Resultado/T0191.1.1.S.2013-09-06.00.jpg (deflated 16%)\n",
            "updating: VC_CNN/Editadas2/Resultado/T0173.1.2.S.2013-03-18.00.jpg (deflated 13%)\n",
            "updating: VC_CNN/Editadas2/Resultado/T0161.1.2.S.2013-02-22.00.jpg (deflated 16%)\n",
            "updating: VC_CNN/Editadas2/Resultado/T0189.1.5.S.2013-09-30.00.jpg (deflated 15%)\n",
            "updating: VC_CNN/Editadas2/Resultado/T0194.1.3.S.2013-10-02.00.jpg (deflated 32%)\n",
            "updating: VC_CNN/Editadas2/Resultado/T0177.1.4.S.2013-03-20.00.jpg (deflated 11%)\n",
            "updating: VC_CNN/Editadas2/Resultado/T0154.1.5.S.2013-02-01.00.jpg (deflated 22%)\n",
            "updating: VC_CNN/Editadas2/Resultado/T0145.1.1.S.2013-01-29.00.jpg (deflated 15%)\n",
            "updating: VC_CNN/Editadas2/Resultado/T0189.1.3.S.2013-09-30.00.jpg (deflated 20%)\n",
            "updating: VC_CNN/Editadas2/Resultado/T0168.1.5.S.2013-04-08.00.jpg (deflated 17%)\n",
            "updating: VC_CNN/Editadas2/Resultado/T0179.1.3.S.2013-08-16.00.jpg (deflated 24%)\n",
            "updating: VC_CNN/Editadas2/Resultado/T0180.1.3.S.2013-08-16.00.jpg (deflated 23%)\n",
            "updating: VC_CNN/Editadas2/Resultado/T0170.1.4.S.2013-04-08.00.jpg (deflated 10%)\n",
            "updating: VC_CNN/Editadas2/Resultado/T0154.1.3.S.2013-02-01.00.jpg (deflated 24%)\n",
            "updating: VC_CNN/Editadas2/Resultado/T0159.1.3.S.2013-02-22.00.jpg (deflated 23%)\n",
            "updating: VC_CNN/Editadas2/Resultado/T0189.1.4.S.2013-09-30.00.jpg (deflated 10%)\n",
            "updating: VC_CNN/Editadas2/Resultado/T0145.1.2.S.2013-01-29.00.jpg (deflated 16%)\n",
            "updating: VC_CNN/Editadas2/Resultado/T0165.1.4.S.2013-03-06.00.jpg (deflated 6%)\n",
            "updating: VC_CNN/Editadas2/Resultado/T0193.1.1.S.2013-10-02.00.jpg (deflated 11%)\n",
            "updating: VC_CNN/Editadas2/Resultado/T0173.1.4.S.2013-03-18.00.jpg (deflated 11%)\n",
            "updating: VC_CNN/Editadas2/Resultado/T0198.2.4.S.2014-11-11.00.jpg (deflated 12%)\n",
            "updating: VC_CNN/Editadas2/Resultado/T0169.1.4.S.2013-04-08.00.jpg (deflated 10%)\n",
            "updating: VC_CNN/Editadas2/Resultado/T0197.1.3.S.2013-10-07.00.jpg (deflated 17%)\n",
            "updating: VC_CNN/Editadas2/Resultado/T0151.1.3.S.2013-01-28.00.jpg (deflated 30%)\n",
            "updating: VC_CNN/Editadas2/Resultado/T0197.1.1.S.2013-10-07.00.jpg (deflated 9%)\n",
            "updating: VC_CNN/Editadas2/Resultado/T0143.1.3.S.2013-01-25.00.jpg (deflated 26%)\n",
            "updating: VC_CNN/Editadas2/Resultado/T0191.1.2.S.2013-09-06.00.jpg (deflated 14%)\n",
            "updating: VC_CNN/Editadas2/Resultado/T0154.1.4.S.2013-02-01.00.jpg (deflated 12%)\n",
            "updating: VC_CNN/Editadas2/Resultado/T0193.1.3.S.2013-10-02.00.jpg (deflated 20%)\n",
            "updating: VC_CNN/Editadas2/Resultado/T0171.1.3.S.2013-03-18.00.jpg (deflated 27%)\n",
            "updating: VC_CNN/Editadas2/Resultado/T0165.1.1.S.2013-03-06.00.jpg (deflated 10%)\n",
            "updating: VC_CNN/Editadas2/Resultado/T0168.1.3.S.2013-04-08.00.jpg (deflated 23%)\n",
            "updating: VC_CNN/Editadas2/Resultado/T0188.1.5.S.2013-08-12.00.jpg (deflated 16%)\n",
            "updating: VC_CNN/Editadas2/Resultado/T0169.1.1.S.2013-04-08.00.jpg (deflated 14%)\n",
            "updating: VC_CNN/Editadas2/Resultado/T0143.1.2.S.2013-01-25.00.jpg (deflated 18%)\n",
            "updating: VC_CNN/Editadas2/Resultado/T0162.1.4.S.2013-02-19.00.jpg (deflated 10%)\n",
            "updating: VC_CNN/Editadas2/Resultado/T0193.1.2.S.2013-10-02.00.jpg (deflated 16%)\n",
            "updating: VC_CNN/Editadas2/Resultado/T0176.1.4.S.2013-03-20.00.jpg (deflated 8%)\n",
            "updating: VC_CNN/Editadas2/Resultado/T0144.1.5.S.2013-01-29.00.jpg (deflated 26%)\n",
            "updating: VC_CNN/Editadas2/Resultado/T0158.1.1.S.2013-02-18.00.jpg (deflated 16%)\n",
            "updating: VC_CNN/Editadas2/Resultado/T0156.1.1.S.2013-02-18.00.jpg (deflated 10%)\n",
            "updating: VC_CNN/Editadas2/Resultado/T0181.1.2.S.2013-08-16.00.jpg (deflated 16%)\n",
            "updating: VC_CNN/Editadas2/Resultado/T0198.2.1.S.2014-11-11.00.jpg (deflated 16%)\n",
            "updating: VC_CNN/Editadas2/Resultado/T0168.1.1.S.2013-04-08.00.jpg (deflated 12%)\n",
            "updating: VC_CNN/Editadas2/Resultado/T0166.1.1.S.2013-01-14.00.jpg (deflated 15%)\n",
            "updating: VC_CNN/Editadas2/Resultado/T0198.2.2.S.2014-11-11.00.jpg (deflated 19%)\n",
            "updating: VC_CNN/Editadas2/Resultado/T0193.1.4.S.2013-10-02.00.jpg (deflated 10%)\n",
            "updating: VC_CNN/Editadas2/Resultado/T0158.1.5.S.2013-02-18.00.jpg (deflated 22%)\n",
            "updating: VC_CNN/Editadas2/Resultado/T0197.1.2.S.2013-10-07.00.jpg (deflated 17%)\n",
            "updating: VC_CNN/Editadas2/Resultado/T0176.1.3.S.2013-03-20.00.jpg (deflated 21%)\n",
            "updating: VC_CNN/Editadas2/Resultado/T0143.1.4.S.2013-01-25.00.jpg (deflated 13%)\n",
            "updating: VC_CNN/Editadas2/Resultado/T0151.1.1.S.2013-01-28.00.jpg (deflated 17%)\n",
            "updating: VC_CNN/Editadas2/Resultado/T0192.1.5.S.2013-09-06.00.jpg (deflated 20%)\n",
            "updating: VC_CNN/Editadas2/Resultado/T0163.1.5.S.2013-02-19.00.jpg (deflated 18%)\n",
            "updating: VC_CNN/Editadas2/Resultado/T0181.1.4.S.2013-08-16.00.jpg (deflated 13%)\n",
            "updating: VC_CNN/Editadas2/Resultado/T0151.1.4.S.2013-01-28.00.jpg (deflated 14%)\n",
            "updating: VC_CNN/Editadas2/Resultado/T0159.1.1.S.2013-02-22.00.jpg (deflated 16%)\n",
            "updating: VC_CNN/Editadas2/Resultado/T0179.1.4.S.2013-08-16.00.jpg (deflated 15%)\n",
            "updating: VC_CNN/Editadas2/Resultado/T0194.1.1.S.2013-10-02.00.jpg (deflated 15%)\n",
            "updating: VC_CNN/Editadas2/Resultado/T0188.1.3.S.2013-08-12.00.jpg (deflated 20%)\n",
            "updating: VC_CNN/Editadas2/Resultado/T0143.1.5.S.2013-01-25.00.jpg (deflated 23%)\n",
            "updating: VC_CNN/Editadas2/Resultado/T0152.1.1.S.2013-02-01.00.jpg (deflated 14%)\n",
            "updating: VC_CNN/Editadas2/Resultado/T0181.1.3.S.2013-08-16.00.jpg (deflated 23%)\n",
            "updating: VC_CNN/Editadas2/Resultado/T0153.1.3.S.2013-02-01.00.jpg (deflated 24%)\n",
            "updating: VC_CNN/Editadas2/Resultado/T0172.1.2.S.2013-03-18.00.jpg (deflated 20%)\n",
            "updating: VC_CNN/Editadas2/Resultado/T0156.1.2.S.2013-02-18.00.jpg (deflated 18%)\n",
            "updating: VC_CNN/Editadas2/Resultado/T0172.1.3.S.2013-03-18.00.jpg (deflated 23%)\n",
            "updating: VC_CNN/Editadas2/Resultado/T0173.1.3.S.2013-03-18.00.jpg (deflated 22%)\n",
            "updating: VC_CNN/Editadas2/Resultado/T0147.1.4.S.2013-01-29.00.jpg (deflated 15%)\n",
            "updating: VC_CNN/Editadas2/Resultado/T0143.1.1.S.2013-01-25.00.jpg (deflated 15%)\n",
            "updating: VC_CNN/Editadas2/Resultado/T0165.1.3.S.2013-03-06.00.jpg (deflated 25%)\n",
            "updating: VC_CNN/Editadas2/Resultado/T0177.1.5.S.2013-03-20.00.jpg (deflated 22%)\n",
            "updating: VC_CNN/Editadas2/Resultado/T0147.1.5.S.2013-01-29.00.jpg (deflated 24%)\n",
            "updating: VC_CNN/Editadas2/Resultado/T0144.1.1.S.2013-01-29.00.jpg (deflated 15%)\n",
            "updating: VC_CNN/Editadas2/Resultado/T0152.1.3.S.2013-02-01.00.jpg (deflated 24%)\n",
            "updating: VC_CNN/Editadas2/Resultado/T0196.1.1.S.2013-10-07.00.jpg (deflated 14%)\n",
            "updating: VC_CNN/Editadas2/Resultado/T0191.1.5.S.2013-09-06.00.jpg (deflated 18%)\n",
            "updating: VC_CNN/Editadas2/Resultado/T0159.1.4.S.2013-02-22.00.jpg (deflated 14%)\n",
            "updating: VC_CNN/Editadas2/Resultado/T0156.1.5.S.2013-02-18.00.jpg (deflated 19%)\n",
            "updating: VC_CNN/Editadas2/Resultado/T0191.1.3.S.2013-09-06.00.jpg (deflated 23%)\n",
            "updating: VC_CNN/Editadas2/Resultado/T0190.1.2.S.2013-09-30.00.jpg (deflated 13%)\n",
            "updating: VC_CNN/Editadas2/Resultado/T0144.1.2.S.2013-01-29.00.jpg (deflated 21%)\n",
            "updating: VC_CNN/Editadas2/Resultado/T0164.1.2.S.2013-02-19.00.jpg (deflated 18%)\n",
            "updating: VC_CNN/Editadas2/Resultado/T0190.1.1.S.2013-09-30.00.jpg (deflated 11%)\n",
            "updating: VC_CNN/Editadas2/Resultado/T0146.1.5.S.2013-01-29.00.jpg (deflated 15%)\n",
            "updating: VC_CNN/Editadas2/Resultado/T0145.1.5.S.2013-01-29.00.jpg (deflated 18%)\n",
            "updating: VC_CNN/Editadas2/Resultado/T0174.1.5.S.2013-03-20.00.jpg (deflated 22%)\n",
            "updating: VC_CNN/Editadas2/Resultado/T0172.1.1.S.2013-03-18.00.jpg (deflated 17%)\n",
            "updating: VC_CNN/Editadas2/Resultado/T0177.1.3.S.2013-03-20.00.jpg (deflated 24%)\n",
            "updating: VC_CNN/Editadas2/Resultado/T0174.1.1.S.2013-03-20.00.jpg (deflated 15%)\n",
            "updating: VC_CNN/Editadas2/Resultado/T0174.1.2.S.2013-03-20.00.jpg (deflated 17%)\n",
            "updating: VC_CNN/Editadas2/Resultado/T0171.1.4.S.2013-03-18.00.jpg (deflated 19%)\n",
            "updating: VC_CNN/Editadas2/Resultado/T0169.1.5.S.2013-04-08.00.jpg (deflated 19%)\n",
            "updating: VC_CNN/Editadas2/Resultado/T0154.1.1.S.2013-02-01.00.jpg (deflated 13%)\n",
            "updating: VC_CNN/Editadas2/Resultado/T0156.1.3.S.2013-02-18.00.jpg (deflated 24%)\n",
            "updating: VC_CNN/Editadas2/Resultado/T0188.1.1.S.2013-08-12.00.jpg (deflated 13%)\n",
            "updating: VC_CNN/Editadas2/Resultado/T0173.1.1.S.2013-03-18.00.jpg (deflated 14%)\n",
            "updating: VC_CNN/Editadas2/Resultado/T0144.1.3.S.2013-01-29.00.jpg (deflated 29%)\n",
            "updating: VC_CNN/Editadas2/Resultado/T0170.1.5.S.2013-04-08.00.jpg (deflated 21%)\n",
            "updating: VC_CNN/Editadas2/Resultado/T0146.1.4.S.2013-01-29.00.jpg (deflated 9%)\n",
            "updating: VC_CNN/Editadas2/Resultado/T0145.1.3.S.2013-01-29.00.jpg (deflated 19%)\n",
            "updating: VC_CNN/Editadas2/Resultado/T0196.1.2.S.2013-10-07.00.jpg (deflated 17%)\n",
            "updating: VC_CNN/Editadas2/Resultado/T0170.1.3.S.2013-04-08.00.jpg (deflated 27%)\n",
            "updating: VC_CNN/Editadas2/Resultado/T0166.1.5.S.2013-01-14.00.jpg (deflated 22%)\n",
            "updating: VC_CNN/Editadas2/Resultado/T0164.1.1.S.2013-02-19.00.jpg (deflated 17%)\n",
            "updating: VC_CNN/Editadas2/Resultado/T0166.1.2.S.2013-01-14.00.jpg (deflated 16%)\n",
            "updating: VC_CNN/Editadas2/Resultado/T0147.1.1.S.2013-01-29.00.jpg (deflated 17%)\n",
            "updating: VC_CNN/Editadas2/Resultado/T0169.1.3.S.2013-04-08.00.jpg (deflated 22%)\n",
            "updating: VC_CNN/Editadas2/Resultado/T0192.1.1.S.2013-09-06.00.jpg (deflated 14%)\n",
            "updating: VC_CNN/Editadas2/Resultado/T0168.1.2.S.2013-04-08.00.jpg (deflated 14%)\n",
            "updating: VC_CNN/Editadas2/Resultado/T0144.1.4.S.2013-01-29.00.jpg (deflated 11%)\n",
            "updating: VC_CNN/Editadas2/Resultado/T0177.1.1.S.2013-03-20.00.jpg (deflated 14%)\n",
            "updating: VC_CNN/Editadas2/Resultado/T0163.1.1.S.2013-02-19.00.jpg (deflated 12%)\n",
            "updating: VC_CNN/Editadas2/Resultado/T0181.1.1.S.2013-08-16.00.jpg (deflated 13%)\n",
            "updating: VC_CNN/Editadas2/Resultado/T0162.1.2.S.2013-02-19.00.jpg (deflated 13%)\n",
            "updating: VC_CNN/Editadas2/Resultado/T0153.1.1.S.2013-02-01.00.jpg (deflated 13%)\n",
            "  adding: VC_CNN/Editadas2/Resultado/T0179.1.1.S.2013-08-16.00.jpg (deflated 17%)\n",
            "  adding: VC_CNN/Editadas2/Resultado/T0170.1.2.S.2013-04-08.00.jpg (deflated 15%)\n",
            "  adding: VC_CNN/Editadas2/Resultado/T0162.1.1.S.2013-02-19.00.jpg (deflated 11%)\n",
            "  adding: VC_CNN/Editadas2/Resultado/T0180.1.1.S.2013-08-16.00.jpg (deflated 11%)\n",
            "  adding: VC_CNN/Editadas2/Resultado/T0165.1.5.S.2013-03-06.00.jpg (deflated 22%)\n",
            "  adding: VC_CNN/Editadas2/Resultado/T0179.1.5.S.2013-08-16.00.jpg (deflated 22%)\n",
            "  adding: VC_CNN/Editadas2/Resultado/T0194.1.5.S.2013-10-02.00.jpg (deflated 25%)\n",
            "  adding: VC_CNN/Editadas2/Resultado/T0145.1.4.S.2013-01-29.00.jpg (deflated 12%)\n",
            "  adding: VC_CNN/Editadas2/Resultado/T0188.1.2.S.2013-08-12.00.jpg (deflated 13%)\n",
            "  adding: VC_CNN/Editadas2/Resultado/T0171.1.5.S.2013-03-18.00.jpg (deflated 26%)\n",
            "  adding: VC_CNN/Editadas2/Resultado/T0164.1.5.S.2013-02-19.00.jpg (deflated 20%)\n",
            "  adding: VC_CNN/Editadas2/Resultado/T0154.1.2.S.2013-02-01.00.jpg (deflated 16%)\n",
            "  adding: VC_CNN/Editadas2/Resultado/T0192.1.4.S.2013-09-06.00.jpg (deflated 9%)\n",
            "  adding: VC_CNN/Editadas2/Resultado/T0189.1.2.S.2013-09-30.00.jpg (deflated 13%)\n",
            "  adding: VC_CNN/Editadas2/Resultado/T0161.1.4.S.2013-02-22.00.jpg (deflated 12%)\n",
            "  adding: VC_CNN/Editadas2/Resultado/T0191.1.4.S.2013-09-06.00.jpg (deflated 12%)\n",
            "  adding: VC_CNN/Editadas2/Resultado/T0168.1.4.S.2013-04-08.00.jpg (deflated 10%)\n",
            "  adding: VC_CNN/Editadas2/Resultado/T0174.1.3.S.2013-03-20.00.jpg (deflated 27%)\n",
            "  adding: VC_CNN/Editadas2/Resultado/T0198.2.3.S.2014-11-11.00.jpg (deflated 24%)\n",
            "  adding: VC_CNN/Editadas2/Resultado/T0164.1.4.S.2013-02-19.00.jpg (deflated 11%)\n",
            "  adding: VC_CNN/Editadas2/Resultado/T0146.1.2.S.2013-01-29.00.jpg (deflated 16%)\n",
            "  adding: VC_CNN/Editadas2/Resultado/T0166.1.4.S.2013-01-14.00.jpg (deflated 15%)\n",
            "  adding: VC_CNN/Editadas2/Resultado/T0176.1.1.S.2013-03-20.00.jpg (deflated 17%)\n",
            "  adding: VC_CNN/Editadas2/Resultado/T0174.1.4.S.2013-03-20.00.jpg (deflated 14%)\n",
            "  adding: VC_CNN/Editadas2/Resultado/T0172.1.4.S.2013-03-18.00.jpg (deflated 9%)\n",
            "  adding: VC_CNN/Editadas2/Resultado/T0166.1.3.S.2013-01-14.00.jpg (deflated 27%)\n",
            "  adding: VC_CNN/Editadas2/Resultado/T0194.1.4.S.2013-10-02.00.jpg (deflated 14%)\n",
            "  adding: VC_CNN/Editadas2/Resultado/T0171.1.2.S.2013-03-18.00.jpg (deflated 23%)\n",
            "  adding: VC_CNN/Editadas2/Resultado/T0172.1.5.S.2013-03-18.00.jpg (deflated 19%)\n",
            "  adding: VC_CNN/Editadas2/Resultado/T0153.1.5.S.2013-02-01.00.jpg (deflated 22%)\n",
            "  adding: VC_CNN/Editadas2/Resultado/T0162.1.3.S.2013-02-19.00.jpg (deflated 24%)\n",
            "  adding: VC_CNN/Editadas2/Resultado/T0153.1.2.S.2013-02-01.00.jpg (deflated 16%)\n",
            "  adding: VC_CNN/Editadas2/Resultado/T0193.1.5.S.2013-10-02.00.jpg (deflated 20%)\n",
            "  adding: VC_CNN/Editadas2/Resultado/T0165.1.2.S.2013-03-06.00.jpg (deflated 17%)\n",
            "  adding: VC_CNN/Editadas2/Resultado/T0152.1.2.S.2013-02-01.00.jpg (deflated 17%)\n",
            "  adding: VC_CNN/Editadas2/Resultado/T0159.1.2.S.2013-02-22.00.jpg (deflated 17%)\n",
            "  adding: VC_CNN/Editadas2/Resultado/T0163.1.2.S.2013-02-19.00.jpg (deflated 13%)\n",
            "  adding: VC_CNN/Editadas2/Resultado/T0161.1.5.S.2013-02-22.00.jpg (deflated 20%)\n",
            "  adding: VC_CNN/Editadas2/Resultado/T0176.1.5.S.2013-03-20.00.jpg (deflated 12%)\n",
            "  adding: VC_CNN/Editadas2/Resultado/T0171.1.1.S.2013-03-18.00.jpg (deflated 17%)\n",
            "  adding: VC_CNN/Editadas2/Resultado/T0146.1.3.S.2013-01-29.00.jpg (deflated 21%)\n",
            "  adding: VC_CNN/Editadas2/Resultado/T0158.1.2.S.2013-02-18.00.jpg (deflated 20%)\n",
            "  adding: VC_CNN/Editadas2/Resultado/T0192.1.3.S.2013-09-06.00.jpg (deflated 24%)\n",
            "  adding: VC_CNN/Editadas2/Resultado/T0190.1.3.S.2013-09-30.00.jpg (deflated 18%)\n",
            "  adding: VC_CNN/Editadas2/Resultado/T0156.1.4.S.2013-02-18.00.jpg (deflated 9%)\n",
            "  adding: VC_CNN/Editadas2/Resultado/T0159.1.5.S.2013-02-22.00.jpg (deflated 20%)\n",
            "  adding: VC_CNN/Editadas2/Resultado/T0161.1.3.S.2013-02-22.00.jpg (deflated 24%)\n",
            "  adding: VC_CNN/Editadas2/Resultado/T0163.1.4.S.2013-02-19.00.jpg (deflated 10%)\n",
            "  adding: VC_CNN/Editadas2/Resultado/T0151.1.5.S.2013-01-28.00.jpg (deflated 22%)\n",
            "  adding: VC_CNN/Editadas2/Resultado/T0197.1.5.S.2013-10-07.00.jpg (deflated 15%)\n",
            "  adding: VC_CNN/Editadas2/Resultado/T0147.1.2.S.2013-01-29.00.jpg (deflated 17%)\n",
            "  adding: VC_CNN/Editadas2/Resultado/T0164.1.3.S.2013-02-19.00.jpg (deflated 25%)\n",
            "  adding: VC_CNN/Editadas2/Resultado/T0196.1.3.S.2013-10-07.00.jpg (deflated 25%)\n",
            "  adding: VC_CNN/Editadas2/Resultado/T0161.1.1.S.2013-02-22.00.jpg (deflated 14%)\n",
            "  adding: VC_CNN/Editadas2/Resultado/T0196.1.5.S.2013-10-07.00.jpg (deflated 19%)\n",
            "  adding: VC_CNN/Editadas2/Resultado/T0146.1.1.S.2013-01-29.00.jpg (deflated 16%)\n",
            "  adding: VC_CNN/Editadas2/Resultado/T0194.1.2.S.2013-10-02.00.jpg (deflated 23%)\n",
            "  adding: VC_CNN/Editadas2/Resultado/T0181.1.5.S.2013-08-16.00.jpg (deflated 20%)\n",
            "  adding: VC_CNN/Editadas2/Resultado/T0180.1.2.S.2013-08-16.00.jpg (deflated 14%)\n",
            "  adding: VC_CNN/Editadas2/Resultado/T0153.1.4.S.2013-02-01.00.jpg (deflated 12%)\n",
            "  adding: VC_CNN/Editadas2/Resultado/T0196.1.4.S.2013-10-07.00.jpg (deflated 10%)\n",
            "  adding: VC_CNN/Editadas2/Resultado/T0189.1.1.S.2013-09-30.00.jpg (deflated 11%)\n",
            "  adding: VC_CNN/Editadas2/Resultado/T0173.1.5.S.2013-03-18.00.jpg (deflated 18%)\n",
            "  adding: VC_CNN/Editadas2/Resultado/T0179.1.2.S.2013-08-16.00.jpg (deflated 17%)\n",
            "  adding: VC_CNN/Editadas2/Resultado/T0162.1.5.S.2013-02-19.00.jpg (deflated 19%)\n",
            "  adding: VC_CNN/Editadas2/Resultado/T0151.1.2.S.2013-01-28.00.jpg (deflated 18%)\n",
            "  adding: VC_CNN/Editadas2/Resultado/T0177.1.2.S.2013-03-20.00.jpg (deflated 14%)\n",
            "  adding: VC_CNN/Editadas2/Resultado/T0169.1.2.S.2013-04-08.00.jpg (deflated 15%)\n",
            "  adding: VC_CNN/Editadas2/Resultado/T0188.1.4.S.2013-08-12.00.jpg (deflated 11%)\n",
            "  adding: VC_CNN/Editadas2/Resultado/T0190.1.5.S.2013-09-30.00.jpg (deflated 15%)\n",
            "  adding: VC_CNN/Editadas2/Resultado/T0163.1.3.S.2013-02-19.00.jpg (deflated 21%)\n",
            "  adding: VC_CNN/Editadas2/Resultado/T0197.1.4.S.2013-10-07.00.jpg (deflated 5%)\n",
            "  adding: VC_CNN/Editadas2/Resultado/T0152.1.4.S.2013-02-01.00.jpg (deflated 14%)\n",
            "  adding: VC_CNN/Editadas2/Resultado/T0192.1.2.S.2013-09-06.00.jpg (deflated 20%)\n",
            "  adding: VC_CNN/Editadas2/Resultado/T0190.1.4.S.2013-09-30.00.jpg (deflated 9%)\n",
            "  adding: VC_CNN/Editadas2/Resultado/T0198.2.5.S.2014-11-11.00.jpg (deflated 26%)\n",
            "  adding: VC_CNN/Editadas2/Resultado/T0170.1.1.S.2013-04-08.00.jpg (deflated 14%)\n",
            "  adding: VC_CNN/Editadas2/Resultado/T0152.1.5.S.2013-02-01.00.jpg (deflated 17%)\n",
            "  adding: VC_CNN/Editadas2/Resultado/T0180.1.4.S.2013-08-16.00.jpg (deflated 6%)\n",
            "  adding: VC_CNN/Editadas2/Resultado/T0158.1.4.S.2013-02-18.00.jpg (deflated 13%)\n"
          ],
          "name": "stdout"
        }
      ]
    }
  ]
}